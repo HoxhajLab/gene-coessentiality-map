{
 "cells": [
  {
   "cell_type": "markdown",
   "metadata": {},
   "source": [
    "# Setup"
   ]
  },
  {
   "cell_type": "code",
   "execution_count": null,
   "metadata": {},
   "outputs": [],
   "source": [
    "import os\n",
    "import session_info\n",
    "import utils\n",
    "from utils import load_data, get_within_cluster_interactions, plot_clusters\n",
    "\n",
    "os.getcwd()\n"
   ]
  },
  {
   "cell_type": "markdown",
   "metadata": {},
   "source": [
    "# NADK2 : Homo Sapiens"
   ]
  },
  {
   "cell_type": "markdown",
   "metadata": {},
   "source": [
    "### Load Data"
   ]
  },
  {
   "cell_type": "code",
   "execution_count": null,
   "metadata": {},
   "outputs": [],
   "source": [
    "GENE =\"NADK2\"\n",
    "SPECIES = \"homo_sapiens\"\n",
    "codep, clusters, coords, interactions = load_data(GENE, SPECIES)\n",
    "\n",
    "# Subset edges to only w/in cluster\n",
    "win_cluster_interactions, cluster_map = get_within_cluster_interactions(GENE, clusters, interactions)\n",
    "\n",
    "# Add in the coords\n",
    "edge_df = win_cluster_interactions.merge(coords, how='inner', on ='protein')\n",
    "\n",
    "# Unique clusters + 1 for root\n",
    "cluster_cnt = len(edge_df['cluster_id'].unique())\n",
    "\n",
    "print(f\"{cluster_cnt} cluster(s) identified.\")"
   ]
  },
  {
   "cell_type": "markdown",
   "metadata": {},
   "source": [
    "### Setup Color Cluster Mapping\n",
    "Note, by default this is configured for the clusters identified in homo_sapiens.\n",
    "The cluster map values will need to change if the species is changed."
   ]
  },
  {
   "cell_type": "code",
   "execution_count": null,
   "metadata": {},
   "outputs": [],
   "source": [
    "### Setup NADK2 Colors\n",
    "edge_color_gray = \"#E0E0DE\"\n",
    "# NADK2 cluster to colormap\n",
    "cluster_color_map = {\n",
    "    f\"{GENE}-root\":\"#55AAFF\",\n",
    "    \"Mitochondrial Gene Expression\": \"#EE82EE\",\n",
    "    \"Tricarboxylic Acid Cycle\": \"#a7e99c\",\n",
    "    \"Iron-sulfur Cluster Assembly\": \"#9ABFAB\",\n",
    "    \"Protein Lipoylation\":\"#FDCC0D\",\n",
    "}\n",
    "\n",
    "cluster_id_to_color = {\n",
    "    cluster_id:color for cluster_id, color in zip(list(range(cluster_cnt+1)), cluster_color_map.values())\n",
    "}\n",
    "cluster_id_to_name = {\n",
    "    cluster_id:color for cluster_id, color in zip(list(range(cluster_cnt+1)), cluster_color_map.keys())\n",
    "}\n",
    "colors = list(cluster_color_map.values())\n",
    "\n",
    "# Include 0, 1, 2, 4\n",
    "cluster_id_to_name, cluster_id_to_color"
   ]
  },
  {
   "cell_type": "markdown",
   "metadata": {},
   "source": [
    "### Visualize Clusters"
   ]
  },
  {
   "cell_type": "code",
   "execution_count": null,
   "metadata": {},
   "outputs": [],
   "source": [
    "# move Format and move Node positions.\n",
    "position = {gene.upper():(x, y) for gene, (x,y) in zip(edge_df['protein'], zip(edge_df['x_position'], edge_df['y_position']))}\n",
    "position['NADK2'] = ( 0.56, 0.52 )\n",
    "\n",
    "width_col = \"relcorr\"\n",
    "with_labels = False\n",
    "fig, ax = plot_clusters(\n",
    "    node_df= codep,\n",
    "    edge_df= edge_df,\n",
    "    cluster_map=cluster_map,\n",
    "    node_colors=cluster_id_to_color,\n",
    "    position=position,\n",
    "    root = GENE,\n",
    "    boolLabelNodes=with_labels,\n",
    "    boolAddRootEdge=True, \n",
    "    default_edge_color= \"#bfbfbf88\",\n",
    "    boolUseDefaultEdgeColor= True,\n",
    "    boolSpringlayout=True,\n",
    "    width_col=width_col\n",
    ")\n",
    "\n",
    "# Set to True in order to save plots\n",
    "if True:\n",
    "    figName = f\"TClusters_GOI_{GENE}_Species_{SPECIES}_Labels_{with_labels}_width{width_col}.png\"\n",
    "    fig.savefig(os.path.join(os.getcwd(), 'fig', figName), dpi = 600)\n"
   ]
  },
  {
   "cell_type": "markdown",
   "metadata": {},
   "source": [
    "# NADK2 : Mus Musculus"
   ]
  },
  {
   "cell_type": "code",
   "execution_count": null,
   "metadata": {},
   "outputs": [],
   "source": [
    "GENE =\"NADK2\"\n",
    "SPECIES = \"mus_musculus\"\n",
    "codep, clusters, coords, interactions = load_data(GENE, SPECIES)\n",
    "\n",
    "# fix gene Species label mismatch:\n",
    "mislabeled_gene_map = {\n",
    "    \"G6PD\":\"G6PDX\",\n",
    "    \"FH\":\"FH1\"\n",
    "}\n",
    "\n",
    "for k,v in mislabeled_gene_map.items():\n",
    "    print(f\"Replacing {k} with {v}\")\n",
    "    codep['gene'].replace(k, v, inplace = True)\n",
    "\n",
    "# Subset edges to only w/in cluster\n",
    "win_cluster_interactions, cluster_map = get_within_cluster_interactions(GENE, clusters, interactions)\n",
    "\n",
    "# Add in the coords\n",
    "edge_df = win_cluster_interactions.merge(coords, how='inner', on ='protein')\n",
    "\n",
    "# Unique clusters + 1 for root\n",
    "cluster_cnt = len(edge_df['cluster_id'].unique())\n",
    "\n",
    "print(f\"{cluster_cnt} cluster(s) identified.\")"
   ]
  },
  {
   "cell_type": "code",
   "execution_count": null,
   "metadata": {},
   "outputs": [],
   "source": [
    "### Setup NADK2 Colors\n",
    "edge_color_gray = \"#E0E0DE\"\n",
    "# NADK2 cluster to colormap\n",
    "cluster_color_map = {\n",
    "    f\"{GENE}-root\":\"#55AAFF\",\n",
    "    \"Mitochondrial Gene Expression\": \"#EE82EE\",\n",
    "    \"Tricarboxylic Acid Cycle\": \"#a7e99c\",\n",
    "    \"Iron-sulfur Cluster Assembly\": \"#9ABFAB\",\n",
    "    \"Protein Lipoylation\":\"#FDCC0D\",\n",
    "    \"Mitochondrial Transit Peptide\":\"#B067A8\",\n",
    "    \"Alpha-Amino Acid Metabolic Process\":\"#34ebcf\"\n",
    "}\n",
    "\n",
    "cluster_id_to_color = {\n",
    "    cluster_id:color for cluster_id, color in zip(list(range(cluster_cnt+1)), cluster_color_map.values())\n",
    "}\n",
    "cluster_id_to_name = {\n",
    "    cluster_id:color for cluster_id, color in zip(list(range(cluster_cnt+1)), cluster_color_map.keys())\n",
    "}\n",
    "colors = list(cluster_color_map.values())\n",
    "\n",
    "# Include 0, 1, 2, 4\n",
    "cluster_id_to_name, cluster_id_to_color"
   ]
  },
  {
   "cell_type": "markdown",
   "metadata": {},
   "source": [
    "### All Clusters"
   ]
  },
  {
   "cell_type": "code",
   "execution_count": null,
   "metadata": {},
   "outputs": [],
   "source": [
    "position = {gene.upper():(x, y) for gene, (x,y) in zip(edge_df['protein'], zip(edge_df['x_position'], edge_df['y_position']))}\n",
    "position[GENE] = ( 0.37, 0.47 )\n",
    "\n",
    "moves = {\n",
    "    \"COX16\":(-0.1,-0.17),\"CALM1\":(-0.2,-0.16),\"CCDC47\":(0.0,-0.12),\n",
    "}\n",
    "\n",
    "for gene, (x, y) in moves.items():\n",
    "    position[gene] = (position[gene][0] + x, position[gene][1] + y )\n",
    "\n",
    "\n",
    "\n",
    "width_col = \"relcorr\"\n",
    "with_labels = False\n",
    "fig, ax = plot_clusters(\n",
    "    node_df= codep,\n",
    "    edge_df= edge_df,\n",
    "    cluster_map=cluster_map,\n",
    "    node_colors=cluster_id_to_color,\n",
    "    position=position,\n",
    "    root = GENE,\n",
    "    boolLabelNodes=with_labels,\n",
    "    boolAddRootEdge=True, \n",
    "    default_edge_color= \"#bfbfbf88\",\n",
    "    boolUseDefaultEdgeColor= True,\n",
    "    boolSpringlayout=True,\n",
    "    width_col=width_col\n",
    ")\n",
    "\n",
    "# Set to True in order to save plots\n",
    "if True:\n",
    "    figName = f\"Clusters_GOI_{GENE}_Species_{SPECIES}_Labels_{with_labels}_width{width_col}.png\"\n",
    "    fig.savefig(os.path.join(os.getcwd(), 'fig', figName), dpi = 600)\n"
   ]
  },
  {
   "cell_type": "markdown",
   "metadata": {},
   "source": [
    "#### Top 3 Clusters only"
   ]
  },
  {
   "cell_type": "code",
   "execution_count": null,
   "metadata": {},
   "outputs": [],
   "source": [
    "position = {gene.upper():(x, y) for gene, (x,y) in zip(edge_df['protein'], zip(edge_df['x_position'], edge_df['y_position']))}\n",
    "position[GENE] = ( 0.37, 0.47 )\n",
    "\n",
    "moves = {\n",
    "    \"COX16\":(-0.1,-0.17),\"CALM1\":(-0.2,-0.16),\"CCDC47\":(0.0,-0.12),\n",
    "    \"SLC25A19\":(0.15,0.11),\"LIPT2\":(0.2,0.0), \"G6PDX\":(-0.2,0.0),\n",
    "    \"SDHB\":(-0.07,-0.02), \"OXSM\":(0.0,-0.02), \"MECR\": (0.1, 0.05) ,\n",
    "    \"UQCRC1\":(-0.2, -0.2), \"DLST\":(-0.3, 0.0), \"SLC25A1\":(-0.21, -0.1),\n",
    "    \"MAPK9\":(-0.1, -0.14), \"RBFA\":(0.15, 0.0), \"MDH2\":(-0.075, -0.09)\n",
    "}\n",
    "\n",
    "for gene, (x, y) in moves.items():\n",
    "    position[gene] = (position[gene][0] + x, position[gene][1] + y )\n",
    "\n",
    "width_col = \"relcorr\"\n",
    "with_labels = False\n",
    "fig, ax = plot_clusters(\n",
    "    node_df= codep,\n",
    "    edge_df= edge_df,\n",
    "    cluster_map=cluster_map,\n",
    "    node_colors=cluster_id_to_color,\n",
    "    clusters_to_include=[0, 1, 2, 4],\n",
    "    position=position,\n",
    "    root = GENE,\n",
    "    boolLabelNodes=with_labels,\n",
    "    boolAddRootEdge=True, \n",
    "    default_edge_color= \"#bfbfbf88\",\n",
    "    boolUseDefaultEdgeColor= True,\n",
    "    boolSpringlayout=True,\n",
    "    width_col=width_col\n",
    ")\n",
    "\n",
    "# Set to True in order to save plots\n",
    "if True:\n",
    "    figName = f\"3Clusters_GOI_{GENE}_Species_{SPECIES}_Labels_{with_labels}_width{width_col}.png\"\n",
    "    fig.savefig(os.path.join(os.getcwd(), 'fig', figName), dpi = 600)\n"
   ]
  },
  {
   "cell_type": "markdown",
   "metadata": {},
   "source": [
    "# MECR : Homo Sapiens"
   ]
  },
  {
   "cell_type": "markdown",
   "metadata": {},
   "source": [
    "### Load Data"
   ]
  },
  {
   "cell_type": "code",
   "execution_count": null,
   "metadata": {},
   "outputs": [],
   "source": [
    "GENE =\"MECR\"\n",
    "SPECIES = \"homo_sapiens\"\n",
    "codep, clusters, coords, interactions = load_data(GENE, SPECIES)\n",
    "\n",
    "# Subset edges to only w/in cluster\n",
    "win_cluster_interactions, cluster_map = get_within_cluster_interactions(GENE, clusters, interactions)\n",
    "\n",
    "# Add in the coords\n",
    "edge_df = win_cluster_interactions.merge(coords, how='inner', on ='protein')\n",
    "\n",
    "# Unique clusters + 1 for root\n",
    "cluster_cnt = len(edge_df['cluster_id'].unique())\n",
    "\n",
    "print(f\"{cluster_cnt} cluster(s) identified.\")"
   ]
  },
  {
   "cell_type": "markdown",
   "metadata": {},
   "source": [
    "### Cluster color mapping"
   ]
  },
  {
   "cell_type": "code",
   "execution_count": null,
   "metadata": {},
   "outputs": [],
   "source": [
    "### Setup MECR Colors\n",
    "\n",
    "edge_color_gray = \"#E0E0DE\"\n",
    "# NADK2 cluster to colormap\n",
    "cluster_color_map = {\n",
    "    f\"{GENE}-root\":\"#55AAFF\",\n",
    "    \"Mitochondrial Gene Expression\": \"#EE82EE\",\n",
    "    \"tRNA Aminoacylation\":  \"#78d7e3\",\n",
    "    \"tRNA Methylation\":\"#9ABFAB\", \n",
    "    \"Ubiquinone Biosynthetic Process\":\"#FF6F59\",\n",
    "    \"Protein Lipoylation\":\"#FDCC0D\",\n",
    "    \"Respiratory Chain Complex IV Assembly\": \"#a96ded\",\n",
    "}\n",
    "\n",
    "cluster_id_to_color = {\n",
    "    cluster_id:color for cluster_id, color in zip(list(range(cluster_cnt+1)), cluster_color_map.values())\n",
    "}\n",
    "cluster_id_to_name = {\n",
    "    cluster_id:color for cluster_id, color in zip(list(range(cluster_cnt+1)), cluster_color_map.keys())\n",
    "}\n",
    "colors = list(cluster_color_map.values())\n",
    "\n",
    "# Include 0, 1, 2, 4\n",
    "cluster_id_to_name, cluster_id_to_color"
   ]
  },
  {
   "cell_type": "markdown",
   "metadata": {},
   "source": [
    "### Visualize Clusters"
   ]
  },
  {
   "cell_type": "code",
   "execution_count": null,
   "metadata": {},
   "outputs": [],
   "source": [
    "# move Format and move Node positions.\n",
    "position = {gene.upper():(x, y) for gene, (x,y) in zip(edge_df['protein'], zip(edge_df['x_position'], edge_df['y_position']))}\n",
    "position[GENE] = ( 0.52, 0.50 )\n",
    "\n",
    "Cluster6_y_offset = 0.35\n",
    "six_cluster_moves = {\n",
    "    \"SCO2\":(0.03,Cluster6_y_offset+0.03),\"COA7\":(-0.02,Cluster6_y_offset),\"PET117\":(0.0,Cluster6_y_offset),\n",
    "    \"GATC\":(0.0,Cluster6_y_offset),\"COA6\":(0.0,Cluster6_y_offset)\n",
    "}\n",
    "\n",
    "for gene, (x, y) in six_cluster_moves.items():\n",
    "    position[gene] = (position[gene][0] + x, position[gene][1] + y )\n",
    "\n",
    "\n",
    "width_col = \"relcorr\"\n",
    "with_labels = False\n",
    "fig, ax = plot_clusters(\n",
    "    node_df= codep,\n",
    "    edge_df= edge_df,\n",
    "    cluster_map=cluster_map,\n",
    "    node_colors=cluster_id_to_color,\n",
    "    clusters_to_include=[0, 1, 2, 5],\n",
    "    position=position,\n",
    "    root = GENE,\n",
    "    boolLabelNodes=with_labels,\n",
    "    boolAddRootEdge=True, \n",
    "    default_edge_color= \"#bfbfbf88\",\n",
    "    boolUseDefaultEdgeColor= True,\n",
    "    boolSpringlayout=True,\n",
    "    figsize=(15,15),\n",
    "    width_col=width_col,\n",
    ")\n",
    "\n",
    "# Set to True in order to save plots\n",
    "if True:\n",
    "    figName = f\"3Clusters_GOI_{GENE}_Species_{SPECIES}_Labels_{with_labels}_width{width_col}.png\"\n",
    "    fig.savefig(os.path.join(os.getcwd(), 'fig', figName), dpi = 600)\n"
   ]
  },
  {
   "cell_type": "code",
   "execution_count": null,
   "metadata": {},
   "outputs": [],
   "source": [
    "session_info.show()"
   ]
  }
 ],
 "metadata": {
  "kernelspec": {
   "display_name": "causal_book_py39_cuda121",
   "language": "python",
   "name": "python3"
  },
  "language_info": {
   "codemirror_mode": {
    "name": "ipython",
    "version": 3
   },
   "file_extension": ".py",
   "mimetype": "text/x-python",
   "name": "python",
   "nbconvert_exporter": "python",
   "pygments_lexer": "ipython3",
   "version": "3.9.18"
  },
  "orig_nbformat": 4
 },
 "nbformat": 4,
 "nbformat_minor": 2
}
